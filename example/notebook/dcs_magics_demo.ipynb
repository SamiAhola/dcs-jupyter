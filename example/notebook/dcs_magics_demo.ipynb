{
 "cells": [
  {
   "cell_type": "markdown",
   "metadata": {},
   "source": [
    "# DCS Magics demo\n",
    "\n",
    "This notebook tests the `%%dcs` magic command functionality."
   ]
  },
  {
   "cell_type": "markdown",
   "metadata": {},
   "source": [
    "## 1. Load the DCS Magic Extension\n",
    "\n",
    "Load with default settings (127.0.0.1:8042):"
   ]
  },
  {
   "cell_type": "code",
   "execution_count": 1,
   "metadata": {},
   "outputs": [],
   "source": [
    "%reload_ext dcs_jupyter.magic"
   ]
  },
  {
   "cell_type": "markdown",
   "metadata": {},
   "source": [
    "Or load with custom host:port:"
   ]
  },
  {
   "cell_type": "code",
   "execution_count": 2,
   "metadata": {},
   "outputs": [],
   "source": [
    "# import dcs_jupyter.magic\n",
    "# dcs_jupyter.magic.load_ipython_extension(get_ipython(), \"127.0.0.1:8080\")"
   ]
  },
  {
   "cell_type": "markdown",
   "metadata": {},
   "source": [
    "## 2. Test Cell Magic\n",
    "\n",
    "Test multi-line Lua code execution:"
   ]
  },
  {
   "cell_type": "code",
   "execution_count": 3,
   "metadata": {},
   "outputs": [
    {
     "data": {
      "text/plain": [
       "'Magic command executed successfully'"
      ]
     },
     "execution_count": 3,
     "metadata": {},
     "output_type": "execute_result"
    }
   ],
   "source": [
    "%%dcs\n",
    "-- Test basic DCS communication\n",
    "trigger.action.outText(\"Hello from Python notebook!\", 5)\n",
    "return \"Magic command executed successfully\""
   ]
  },
  {
   "cell_type": "markdown",
   "metadata": {},
   "source": [
    "## 3. Test Line Magic\n",
    "\n",
    "Test single-line Lua code execution:"
   ]
  },
  {
   "cell_type": "code",
   "execution_count": 4,
   "metadata": {},
   "outputs": [
    {
     "data": {
      "text/plain": [
       "'Current mission time: 3830.6'"
      ]
     },
     "execution_count": 4,
     "metadata": {},
     "output_type": "execute_result"
    }
   ],
   "source": [
    "%dcs return \"Current mission time: \" .. timer.getTime()"
   ]
  },
  {
   "cell_type": "markdown",
   "metadata": {},
   "source": [
    "## 4. Test Error Handling\n",
    "\n",
    "Test what happens with invalid Lua code:"
   ]
  },
  {
   "cell_type": "code",
   "execution_count": 5,
   "metadata": {},
   "outputs": [
    {
     "ename": "LuaExecutionError",
     "evalue": "(zdcs):2: attempt to call global 'invalid_function_call' (a nil value)\nstack traceback:\n\t(zdcs):2: in main chunk\n\t(tail call): ?\n\t[C]: in function 'xpcall'\n\t[string \"C:\\Users\\Sami\\Saved Games\\DCS.openbeta\\/Scripts/jupyter_kernel_connection.lua\"]:20: in function 'execute_command'\n\t[string \"C:\\Users\\Sami\\Saved Games\\DCS.openbeta\\/Scripts/jupyter_kernel_connection.lua\"]:33: in function <[string \"C:\\Users\\Sami\\Saved Games\\DCS.openbeta\\/Scripts/jupyter_kernel_connection.lua\"]:31>\n\t[C]: in function 'pcall'\n\t[string \"C:\\Users\\Sami\\Saved Games\\DCS.openbeta\\/Scripts/jupyter_kernel_connection.lua\"]:31: in function 'process_request'\n\t[string \"C:\\Users\\Sami\\Saved Games\\DCS.openbeta\\/Scripts/jupyter_kernel_connection.lua\"]:50: in function <[string \"C:\\Users\\Sami\\Saved Games\\DCS.openbeta\\/Scripts/jupyter_kernel_connection.lua\"]:49>",
     "output_type": "error",
     "traceback": [
      "\u001b[31m---------------------------------------------------------------------------\u001b[39m",
      "\u001b[31mLuaExecutionError\u001b[39m                         Traceback (most recent call last)",
      "\u001b[36mCell\u001b[39m\u001b[36m \u001b[39m\u001b[32mIn[5]\u001b[39m\u001b[32m, line 1\u001b[39m\n\u001b[32m----> \u001b[39m\u001b[32m1\u001b[39m \u001b[43mget_ipython\u001b[49m\u001b[43m(\u001b[49m\u001b[43m)\u001b[49m\u001b[43m.\u001b[49m\u001b[43mrun_cell_magic\u001b[49m\u001b[43m(\u001b[49m\u001b[33;43m'\u001b[39;49m\u001b[33;43mdcs\u001b[39;49m\u001b[33;43m'\u001b[39;49m\u001b[43m,\u001b[49m\u001b[43m \u001b[49m\u001b[33;43m'\u001b[39;49m\u001b[33;43m'\u001b[39;49m\u001b[43m,\u001b[49m\u001b[43m \u001b[49m\u001b[33;43m'\u001b[39;49m\u001b[33;43m-- This should cause a Lua error\u001b[39;49m\u001b[38;5;130;43;01m\\n\u001b[39;49;00m\u001b[33;43minvalid_function_call()\u001b[39;49m\u001b[38;5;130;43;01m\\n\u001b[39;49;00m\u001b[33;43m'\u001b[39;49m\u001b[43m)\u001b[49m\n",
      "\u001b[36mFile \u001b[39m\u001b[32m~/dev/dcs-jupyter/.venv/lib/python3.13/site-packages/IPython/core/interactiveshell.py:2565\u001b[39m, in \u001b[36mInteractiveShell.run_cell_magic\u001b[39m\u001b[34m(self, magic_name, line, cell)\u001b[39m\n\u001b[32m   2563\u001b[39m \u001b[38;5;28;01mwith\u001b[39;00m \u001b[38;5;28mself\u001b[39m.builtin_trap:\n\u001b[32m   2564\u001b[39m     args = (magic_arg_s, cell)\n\u001b[32m-> \u001b[39m\u001b[32m2565\u001b[39m     result = \u001b[43mfn\u001b[49m\u001b[43m(\u001b[49m\u001b[43m*\u001b[49m\u001b[43margs\u001b[49m\u001b[43m,\u001b[49m\u001b[43m \u001b[49m\u001b[43m*\u001b[49m\u001b[43m*\u001b[49m\u001b[43mkwargs\u001b[49m\u001b[43m)\u001b[49m\n\u001b[32m   2567\u001b[39m \u001b[38;5;66;03m# The code below prevents the output from being displayed\u001b[39;00m\n\u001b[32m   2568\u001b[39m \u001b[38;5;66;03m# when using magics with decorator @output_can_be_silenced\u001b[39;00m\n\u001b[32m   2569\u001b[39m \u001b[38;5;66;03m# when the last Python token in the expression is a ';'.\u001b[39;00m\n\u001b[32m   2570\u001b[39m \u001b[38;5;28;01mif\u001b[39;00m \u001b[38;5;28mgetattr\u001b[39m(fn, magic.MAGIC_OUTPUT_CAN_BE_SILENCED, \u001b[38;5;28;01mFalse\u001b[39;00m):\n",
      "\u001b[36mFile \u001b[39m\u001b[32m~/dev/dcs-jupyter/src/dcs_jupyter/magic.py:35\u001b[39m, in \u001b[36mDCSMagics.dcs\u001b[39m\u001b[34m(self, line, cell, local_ns)\u001b[39m\n\u001b[32m     32\u001b[39m \u001b[38;5;66;03m# Use cell content if available, otherwise use line\u001b[39;00m\n\u001b[32m     33\u001b[39m lua_code = cell \u001b[38;5;28;01mif\u001b[39;00m cell \u001b[38;5;129;01mis\u001b[39;00m \u001b[38;5;129;01mnot\u001b[39;00m \u001b[38;5;28;01mNone\u001b[39;00m \u001b[38;5;28;01melse\u001b[39;00m line\n\u001b[32m---> \u001b[39m\u001b[32m35\u001b[39m result = \u001b[38;5;28;43mself\u001b[39;49m\u001b[43m.\u001b[49m\u001b[43mdcs\u001b[49m\u001b[43m.\u001b[49m\u001b[43mexecute\u001b[49m\u001b[43m(\u001b[49m\u001b[43mlua_code\u001b[49m\u001b[43m)\u001b[49m\n\u001b[32m     36\u001b[39m \u001b[38;5;28;01mreturn\u001b[39;00m result\n",
      "\u001b[36mFile \u001b[39m\u001b[32m~/dev/dcs-jupyter/src/dcs_jupyter/connection.py:43\u001b[39m, in \u001b[36mDCSConnection.execute\u001b[39m\u001b[34m(self, lua_code)\u001b[39m\n\u001b[32m     41\u001b[39m     \u001b[38;5;28;01mreturn\u001b[39;00m s[\u001b[32m3\u001b[39m:]  \u001b[38;5;66;03m# Remove \"OK|\" prefix\u001b[39;00m\n\u001b[32m     42\u001b[39m \u001b[38;5;28;01mcase\u001b[39;00m s \u001b[38;5;28;01mif\u001b[39;00m s.startswith(\u001b[33m\"\u001b[39m\u001b[33mERROR|\u001b[39m\u001b[33m\"\u001b[39m):\n\u001b[32m---> \u001b[39m\u001b[32m43\u001b[39m     \u001b[38;5;28;01mraise\u001b[39;00m LuaExecutionError(s[\u001b[32m6\u001b[39m:])  \u001b[38;5;66;03m# Remove \"ERROR|\" prefix\u001b[39;00m\n\u001b[32m     44\u001b[39m \u001b[38;5;28;01mcase\u001b[39;00m\u001b[38;5;250m \u001b[39m\u001b[38;5;28;01m_\u001b[39;00m:\n\u001b[32m     45\u001b[39m     \u001b[38;5;66;03m# Raise error if response doesn't have expected status prefix\u001b[39;00m\n\u001b[32m     46\u001b[39m     \u001b[38;5;28;01mraise\u001b[39;00m \u001b[38;5;167;01mValueError\u001b[39;00m(\u001b[33mf\u001b[39m\u001b[33m\"\u001b[39m\u001b[33mInvalid response format from DCS: \u001b[39m\u001b[38;5;132;01m{\u001b[39;00mresponse[:\u001b[32m50\u001b[39m]\u001b[38;5;132;01m}\u001b[39;00m\u001b[33m...\u001b[39m\u001b[33m\"\u001b[39m)\n",
      "\u001b[31mLuaExecutionError\u001b[39m: (zdcs):2: attempt to call global 'invalid_function_call' (a nil value)\nstack traceback:\n\t(zdcs):2: in main chunk\n\t(tail call): ?\n\t[C]: in function 'xpcall'\n\t[string \"C:\\Users\\Sami\\Saved Games\\DCS.openbeta\\/Scripts/jupyter_kernel_connection.lua\"]:20: in function 'execute_command'\n\t[string \"C:\\Users\\Sami\\Saved Games\\DCS.openbeta\\/Scripts/jupyter_kernel_connection.lua\"]:33: in function <[string \"C:\\Users\\Sami\\Saved Games\\DCS.openbeta\\/Scripts/jupyter_kernel_connection.lua\"]:31>\n\t[C]: in function 'pcall'\n\t[string \"C:\\Users\\Sami\\Saved Games\\DCS.openbeta\\/Scripts/jupyter_kernel_connection.lua\"]:31: in function 'process_request'\n\t[string \"C:\\Users\\Sami\\Saved Games\\DCS.openbeta\\/Scripts/jupyter_kernel_connection.lua\"]:50: in function <[string \"C:\\Users\\Sami\\Saved Games\\DCS.openbeta\\/Scripts/jupyter_kernel_connection.lua\"]:49>"
     ]
    }
   ],
   "source": [
    "%%dcs\n",
    "-- This should cause a Lua error\n",
    "invalid_function_call()"
   ]
  },
  {
   "cell_type": "markdown",
   "metadata": {},
   "source": [
    "## 7. Test Silent Execution\n",
    "\n",
    "Test the `@output_can_be_silenced` decorator:"
   ]
  },
  {
   "cell_type": "code",
   "execution_count": 6,
   "metadata": {},
   "outputs": [],
   "source": [
    "%%dcs\n",
    "-- This should run silently (note the semicolon)\n",
    "return \"This output should be suppressed\";"
   ]
  },
  {
   "cell_type": "markdown",
   "metadata": {},
   "source": [
    "## 8. Unload Extension\n",
    "\n",
    "Test proper cleanup:"
   ]
  },
  {
   "cell_type": "code",
   "execution_count": 7,
   "metadata": {},
   "outputs": [],
   "source": [
    "%unload_ext dcs_jupyter.magic"
   ]
  },
  {
   "cell_type": "code",
   "execution_count": 8,
   "metadata": {},
   "outputs": [
    {
     "ename": "ConnectionError",
     "evalue": "Socket has disconnected.",
     "output_type": "error",
     "traceback": [
      "\u001b[31m---------------------------------------------------------------------------\u001b[39m",
      "\u001b[31mConnectionError\u001b[39m                           Traceback (most recent call last)",
      "\u001b[36mCell\u001b[39m\u001b[36m \u001b[39m\u001b[32mIn[8]\u001b[39m\u001b[32m, line 1\u001b[39m\n\u001b[32m----> \u001b[39m\u001b[32m1\u001b[39m \u001b[43mget_ipython\u001b[49m\u001b[43m(\u001b[49m\u001b[43m)\u001b[49m\u001b[43m.\u001b[49m\u001b[43mrun_cell_magic\u001b[49m\u001b[43m(\u001b[49m\u001b[33;43m'\u001b[39;49m\u001b[33;43mdcs\u001b[39;49m\u001b[33;43m'\u001b[39;49m\u001b[43m,\u001b[49m\u001b[43m \u001b[49m\u001b[33;43m'\u001b[39;49m\u001b[33;43m'\u001b[39;49m\u001b[43m,\u001b[49m\u001b[43m \u001b[49m\u001b[33;43m'\u001b[39;49m\u001b[33;43mhello\u001b[39;49m\u001b[38;5;130;43;01m\\n\u001b[39;49;00m\u001b[33;43m'\u001b[39;49m\u001b[43m)\u001b[49m\n",
      "\u001b[36mFile \u001b[39m\u001b[32m~/dev/dcs-jupyter/.venv/lib/python3.13/site-packages/IPython/core/interactiveshell.py:2565\u001b[39m, in \u001b[36mInteractiveShell.run_cell_magic\u001b[39m\u001b[34m(self, magic_name, line, cell)\u001b[39m\n\u001b[32m   2563\u001b[39m \u001b[38;5;28;01mwith\u001b[39;00m \u001b[38;5;28mself\u001b[39m.builtin_trap:\n\u001b[32m   2564\u001b[39m     args = (magic_arg_s, cell)\n\u001b[32m-> \u001b[39m\u001b[32m2565\u001b[39m     result = \u001b[43mfn\u001b[49m\u001b[43m(\u001b[49m\u001b[43m*\u001b[49m\u001b[43margs\u001b[49m\u001b[43m,\u001b[49m\u001b[43m \u001b[49m\u001b[43m*\u001b[49m\u001b[43m*\u001b[49m\u001b[43mkwargs\u001b[49m\u001b[43m)\u001b[49m\n\u001b[32m   2567\u001b[39m \u001b[38;5;66;03m# The code below prevents the output from being displayed\u001b[39;00m\n\u001b[32m   2568\u001b[39m \u001b[38;5;66;03m# when using magics with decorator @output_can_be_silenced\u001b[39;00m\n\u001b[32m   2569\u001b[39m \u001b[38;5;66;03m# when the last Python token in the expression is a ';'.\u001b[39;00m\n\u001b[32m   2570\u001b[39m \u001b[38;5;28;01mif\u001b[39;00m \u001b[38;5;28mgetattr\u001b[39m(fn, magic.MAGIC_OUTPUT_CAN_BE_SILENCED, \u001b[38;5;28;01mFalse\u001b[39;00m):\n",
      "\u001b[36mFile \u001b[39m\u001b[32m~/dev/dcs-jupyter/src/dcs_jupyter/magic.py:35\u001b[39m, in \u001b[36mDCSMagics.dcs\u001b[39m\u001b[34m(self, line, cell, local_ns)\u001b[39m\n\u001b[32m     32\u001b[39m \u001b[38;5;66;03m# Use cell content if available, otherwise use line\u001b[39;00m\n\u001b[32m     33\u001b[39m lua_code = cell \u001b[38;5;28;01mif\u001b[39;00m cell \u001b[38;5;129;01mis\u001b[39;00m \u001b[38;5;129;01mnot\u001b[39;00m \u001b[38;5;28;01mNone\u001b[39;00m \u001b[38;5;28;01melse\u001b[39;00m line\n\u001b[32m---> \u001b[39m\u001b[32m35\u001b[39m result = \u001b[38;5;28;43mself\u001b[39;49m\u001b[43m.\u001b[49m\u001b[43mdcs\u001b[49m\u001b[43m.\u001b[49m\u001b[43mexecute\u001b[49m\u001b[43m(\u001b[49m\u001b[43mlua_code\u001b[49m\u001b[43m)\u001b[49m\n\u001b[32m     36\u001b[39m \u001b[38;5;28;01mreturn\u001b[39;00m result\n",
      "\u001b[36mFile \u001b[39m\u001b[32m~/dev/dcs-jupyter/src/dcs_jupyter/connection.py:33\u001b[39m, in \u001b[36mDCSConnection.execute\u001b[39m\u001b[34m(self, lua_code)\u001b[39m\n\u001b[32m     20\u001b[39m \u001b[38;5;250m\u001b[39m\u001b[33;03m\"\"\"\u001b[39;00m\n\u001b[32m     21\u001b[39m \u001b[33;03mExecute Lua code in DCS.\u001b[39;00m\n\u001b[32m     22\u001b[39m \u001b[33;03m\u001b[39;00m\n\u001b[32m   (...)\u001b[39m\u001b[32m     30\u001b[39m \u001b[33;03m    Exception: For other connection errors\u001b[39;00m\n\u001b[32m     31\u001b[39m \u001b[33;03m\"\"\"\u001b[39;00m\n\u001b[32m     32\u001b[39m \u001b[38;5;28;01mif\u001b[39;00m \u001b[38;5;28mself\u001b[39m.socket \u001b[38;5;129;01mis\u001b[39;00m \u001b[38;5;28;01mNone\u001b[39;00m:\n\u001b[32m---> \u001b[39m\u001b[32m33\u001b[39m     \u001b[38;5;28;01mraise\u001b[39;00m \u001b[38;5;167;01mConnectionError\u001b[39;00m(\u001b[33m\"\u001b[39m\u001b[33mSocket has disconnected.\u001b[39m\u001b[33m\"\u001b[39m)\n\u001b[32m     35\u001b[39m \u001b[38;5;28mself\u001b[39m.socket.sendto(lua_code.encode(), (\u001b[38;5;28mself\u001b[39m.host, \u001b[38;5;28mself\u001b[39m.port))\n\u001b[32m     36\u001b[39m response = \u001b[38;5;28mself\u001b[39m.socket.recv(\u001b[32m64\u001b[39m * \u001b[32m1024\u001b[39m).decode()\n",
      "\u001b[31mConnectionError\u001b[39m: Socket has disconnected."
     ]
    }
   ],
   "source": [
    "%%dcs\n",
    "hello"
   ]
  },
  {
   "cell_type": "code",
   "execution_count": null,
   "metadata": {},
   "outputs": [],
   "source": []
  }
 ],
 "metadata": {
  "kernelspec": {
   "display_name": "Python 3 (ipykernel)",
   "language": "python",
   "name": "python3"
  },
  "language_info": {
   "codemirror_mode": {
    "name": "ipython",
    "version": 3
   },
   "file_extension": ".py",
   "mimetype": "text/x-python",
   "name": "python",
   "nbconvert_exporter": "python",
   "pygments_lexer": "ipython3",
   "version": "3.13.5"
  }
 },
 "nbformat": 4,
 "nbformat_minor": 4
}
